{
 "cells": [
  {
   "cell_type": "markdown",
   "metadata": {},
   "source": [
    "<h1 style=\"text-align: center;\">Stroke Prediction</h1>\n",
    "\n",
    "<h3 style=\"text-align: center;\">4. Individual Predictions with the ANN Model</h3>\n",
    "\n",
    "<p style=\"text-align: center;\">Hugo Gálvez</p>"
   ]
  },
  {
   "cell_type": "code",
   "execution_count": 1,
   "metadata": {},
   "outputs": [],
   "source": [
    "import numpy as np\n",
    "import pandas as pd\n",
    "import joblib\n",
    "from tensorflow.keras.models import load_model"
   ]
  },
  {
   "cell_type": "markdown",
   "metadata": {},
   "source": [
    "Now that our model is trained, how would we use it to predict the probability of stroke for a new patient? Let's analyze it.\n",
    "\n",
    "The categorical and numerical variables to be used as input for the model are defined. This ensures that the order and format of the columns are consistent with the preprocessor and the trained model. It is a fundamental step to avoid errors during preprocessing or predictions."
   ]
  },
  {
   "cell_type": "code",
   "execution_count": 2,
   "metadata": {},
   "outputs": [],
   "source": [
    "categorical_features = [\n",
    "    'gender', 'hypertension', 'heart_disease', 'ever_married',\n",
    "    'work_type', 'Residence_type', 'smoking_status'\n",
    "]\n",
    "numerical_features = ['age', 'avg_glucose_level', 'bmi']"
   ]
  },
  {
   "cell_type": "markdown",
   "metadata": {},
   "source": [
    "We create the `preprocess_input` function, which converts a person's input data into the format expected by the model. It ensures that the data is properly preprocessed using the saved preprocessor, including standardizing numerical variables and encoding categorical ones. The function returns a `NumPy` array ready to be processed by the model, making the pipeline more automated and reusable."
   ]
  },
  {
   "cell_type": "code",
   "execution_count": 3,
   "metadata": {},
   "outputs": [],
   "source": [
    "def preprocess_input(person_data, preprocessor):\n",
    "    \"\"\"\n",
    "    Converts a person's input data into the format expected by the model.\n",
    "\n",
    "    Args:\n",
    "        person_data (dict): Dictionary containing the person's information,\n",
    "        with keys like 'age', 'gender', etc.\n",
    "        preprocessor (ColumnTransformer): Pre-fitted preprocessor object.\n",
    "\n",
    "    Returns:\n",
    "        np.array: Transformed data ready for the model.\n",
    "    \"\"\"\n",
    "    # Convert the data into a DataFrame for easier preprocessing\n",
    "    df = pd.DataFrame([person_data])[numerical_features + categorical_features]\n",
    "\n",
    "    # Transform the data\n",
    "    transformed_data = preprocessor.transform(df)\n",
    "    \n",
    "    # Ensure it is a NumPy array\n",
    "    return np.array(transformed_data)"
   ]
  },
  {
   "cell_type": "markdown",
   "metadata": {},
   "source": [
    "With the `validate_input` function, it is ensured that the input data contains all the required keys (both numerical and categorical). This prevents errors during preprocessing by ensuring no critical data is missing. If keys are missing, a descriptive error is generated to facilitate debugging. This step is crucial for ensuring the robustness of the prediction pipeline."
   ]
  },
  {
   "cell_type": "code",
   "execution_count": 4,
   "metadata": {},
   "outputs": [],
   "source": [
    "def validate_input(person_data):\n",
    "    \"\"\"\n",
    "    Validates that the input data contains all the required keys.\n",
    "\n",
    "    Args:\n",
    "        person_data (dict): Information about the person.\n",
    "\n",
    "    Raises:\n",
    "        ValueError: If required keys are missing in the data.\n",
    "    \"\"\"\n",
    "    required_keys = numerical_features + categorical_features\n",
    "    missing_keys = [key for key in required_keys if key not in person_data]\n",
    "    if missing_keys:\n",
    "        raise ValueError(f\"Missing required keys: {missing_keys}\")"
   ]
  },
  {
   "cell_type": "markdown",
   "metadata": {},
   "source": [
    "The `get_stroke_prediction` function encapsulates the entire prediction flow, from data validation to predicting the probability of stroke. It loads the saved model and preprocessor, preprocesses the input data, and performs the prediction. By directly returning the stroke probability, it simplifies the model's usage in practical applications. However, the function does not provide additional information about which features influence the prediction, limiting its interpretability."
   ]
  },
  {
   "cell_type": "code",
   "execution_count": 5,
   "metadata": {},
   "outputs": [],
   "source": [
    "def get_stroke_prediction(person_data, model_path, preprocessor_path):\n",
    "    \"\"\"\n",
    "    Obtains the stroke probability for a person using the saved model and preprocessor.\n",
    "\n",
    "    Args:\n",
    "        person_data (dict): Person's data.\n",
    "        model_path (str): Path to the saved model.\n",
    "        preprocessor_path (str): Path to the saved preprocessor.\n",
    "\n",
    "    Returns:\n",
    "        float: Stroke probability.\n",
    "    \"\"\"\n",
    "    # Validate input\n",
    "    validate_input(person_data)\n",
    "\n",
    "    # Load model and preprocessor\n",
    "    model = load_model(model_path)\n",
    "    preprocessor = joblib.load(preprocessor_path)\n",
    "\n",
    "    # Preprocess data and predict\n",
    "    transformed_data = preprocess_input(person_data, preprocessor)\n",
    "    probability = model.predict(transformed_data)[0][0]\n",
    "    return probability"
   ]
  },
  {
   "cell_type": "markdown",
   "metadata": {},
   "source": [
    "### Expected Values for the `new_person` Dictionary Variables\n",
    "\n",
    "| **Variable**         | **Data Type**      | **Possible Values**                                    | **Description**                                     |\n",
    "|-----------------------|--------------------|-------------------------------------------------------|----------------------------------------------------|\n",
    "| `gender`             | Categorical        | `'Male'`, `'Female'`                                  | Patient's gender.                                  |\n",
    "| `age`                | Numeric (float)    | Any positive value (e.g., `45.0`)                     | Patient's age in years.                            |\n",
    "| `hypertension`       | Boolean            | `True`, `False`                                       | Whether the patient has hypertension (`True`) or not. |\n",
    "| `heart_disease`      | Boolean            | `True`, `False`                                       | Whether the patient has heart disease (`True`).    |\n",
    "| `ever_married`       | Boolean            | `True`, `False`                                       | Whether the patient has ever been married (`True`). |\n",
    "| `work_type`          | Categorical        | `'Private'`, `'Self-employed'`, `'Govt_job'`, `'children'`, `'Never_worked'` | Patient's employment type.                        |\n",
    "| `Residence_type`     | Categorical        | `'Urban'`, `'Rural'`                                  | Patient's residence type.                          |\n",
    "| `avg_glucose_level`  | Numeric (float)    | Any positive value (e.g., `85.0`)                     | Average blood glucose level.                       |\n",
    "| `bmi`                | Numeric (float)    | Any positive value (e.g., `24.5`)                     | Body Mass Index (BMI).                             |\n",
    "| `smoking_status`     | Categorical        | `'never smoked'`, `'formerly smoked'`, `'smokes'`, `'Unknown'` | Smoking history.                                   |\n",
    "\n",
    "### Important Notes:\n",
    "- Ensure that categorical values match the defined options exactly (including capitalization and spaces).\n",
    "- For numeric variables (`age`, `avg_glucose_level`, `bmi`), input values must be in decimal format (e.g., `45.0`) to maintain consistency with the preprocessor and avoid unexpected errors.\n",
    "\n",
    "### Example:"
   ]
  },
  {
   "cell_type": "code",
   "execution_count": 6,
   "metadata": {},
   "outputs": [
    {
     "name": "stdout",
     "output_type": "stream",
     "text": [
      "\u001b[1m1/1\u001b[0m \u001b[32m━━━━━━━━━━━━━━━━━━━━\u001b[0m\u001b[37m\u001b[0m \u001b[1m0s\u001b[0m 48ms/step\n",
      "Stroke probability: 89.09%\n"
     ]
    }
   ],
   "source": [
    "# Global variables with default values\n",
    "new_person = {\n",
    "    'gender': 'Female',\n",
    "    'age': 72.5,\n",
    "    'hypertension': True,\n",
    "    'heart_disease': False,\n",
    "    'ever_married': True,\n",
    "    'work_type': 'Private',\n",
    "    'Residence_type': 'Urban',\n",
    "    'avg_glucose_level': 135.7,\n",
    "    'bmi': 29.3,\n",
    "    'smoking_status': 'formerly smoked'\n",
    "}\n",
    "\n",
    "probability = get_stroke_prediction(new_person, 'best_ann.keras', 'preprocessor.pkl')\n",
    "print(f'Stroke probability: {probability:.2%}')"
   ]
  },
  {
   "cell_type": "markdown",
   "metadata": {},
   "source": [
    "In this cell, a practical example is used to illustrate the model's application with input data. A dictionary with a person's data is defined, and the stroke probability is calculated using the optimized model. While a numerical prediction is obtained, the approach is neither intuitive nor explanatory, as it does not provide information about the features contributing to the outcome. This highlights the need to integrate tools like SHAP to improve the model's interpretability in clinical contexts."
   ]
  },
  {
   "cell_type": "markdown",
   "metadata": {},
   "source": [
    "# Referencias\n",
    "\n",
    "- Angermueller, C., Pärnamaa, T., Parts, L., & Stegle, O. (2016). Deep learning for computational biology. *Molecular systems biology*, 12(7), 878.\n",
    "\n",
    "- Bosch Rué, A., Casas Roma, J., & Lozano Bagén, T. (2019). *Deep Learning: Principios y Fundamentos*. Editorial UOC. Retrieved from [here](http://www.editorialuoc.com).\n",
    "\n",
    "- Codecademy. (2024). *Normalization*. Retrieved from [here](https://www.codecademy.com/article/normalization).\n",
    "\n",
    "- DataCamp. (2024). *Normalization in Machine Learning*. Retrieved from [here](https://www.datacamp.com/tutorial/normalization-in-machine-learning).\n",
    "\n",
    "- Hunter, J. D. (2007). Matplotlib: A 2D Graphics Environment. *Computing in Science & Engineering*, 9(3), 90-95. doi: 10.1109/MCSE.2007.55.\n",
    "\n",
    "- IBM. (2024). *Jupyter Notebook Markdown Cheatsheet*. Retrieved from [here](https://www.ibm.com/docs/en/watson-studio-local/1.2.3?topic=notebooks-markdown-jupyter-cheatsheet).\n",
    "\n",
    "- Keras. (2024). *Keras Examples*. Retrieved from [here](https://keras.io/examples/).\n",
    "\n",
    "- LeCun, Y., Bengio, Y., & Hinton, G. (2015). Deep learning. *Nature*, 521(7553), 436-444. DOI: 10.1038/nature14539.\n",
    "\n",
    "- Neural networks with Python by Joaquín Amat Rodrigo, available under CC BY-NC-SA 4.0 license [here](https://www.cienciadedatos.net/documentos/py35-redes-neuronales-python).\n",
    "\n",
    "- Scikit-learn: Machine Learning in Python. (2011). *Journal of Machine Learning Research*, 12, 2825-2830.\n",
    "\n",
    "- TensorFlow. (2024). *tf.keras.utils.plot_model*. Retrieved from [here](https://www.tensorflow.org/api_docs/python/tf/keras/utils/plot_model).\n",
    "\n",
    "- Waskom, M. L. (2021). seaborn: statistical data visualization. *Journal of Open Source Software*, 6(60), 3021. [DOI](https://doi.org/10.21105/joss.03021).\n",
    "\n",
    "- Machine Learning with Python and Scikit-learn by Joaquín Amat Rodrigo, available under CC BY-NC-SA 4.0 license [here](https://www.cienciadedatos.net/documentos/py06_machine_learning_python_scikitlearn).\n",
    "\n",
    "- Pedregosa, F., Varoquaux, G., Gramfort, A., Michel, V., Thirion, B., Grisel, O., ... Duchesnay, E. (2011). Scikit-learn: Machine Learning in Python. Journal of Machine Learning Research, 12, 2825-2830.\n",
    "\n",
    "- Calibrate machine learning models by Joaquín Amat Rodrigo, available under CC BY-NC-SA 4.0 license [here](https://www.cienciadedatos.net/documentos/py11-calibrar-modelos-machine-learning).\n",
    "\n",
    "- Machine Learning with Python and Scikitlearn by Joaquín Amat Rodrigo, available under CC BY-NC-SA 4.0 license [here](https://www.cienciadedatos.net/documentos/py06_machine_learning_python_scikitlearn).\n",
    "\n",
    "- Neural networks with Python by Joaquín Amat Rodrigo, available under CC BY-NC-SA 4.0 license [here](https://www.cienciadedatos.net/documentos/py35-redes-neuronales-python).\n",
    "\n",
    "- Multiple linear regression with Python by Joaquín Amat Rodrigo, available under CC BY-NC-SA 4.0 license [here](https://www.cienciadedatos.net/documentos/py10b-regresion-lineal-multiple-python).\n",
    "\n",
    "- Using pandas category to encode categorical variables in machine learning models by Joaquín Amat Rodrigo, available under CC BY-NC-SA 4.0 license [here](https://www.cienciadedatos.net/documentos/py55-pandas-category-modelos-machine-learning). \n",
    "\n",
    "- OpenAI Community. (2025). *Issue with accessing 'choices' attribute from OpenAI API response*. Retrieved from [here](https://community.openai.com/t/issue-with-accessing-choices-attribute-from-openai-api-response/362725).\n",
    "\n",
    "- Ebbelaar, D. (2025). *Streamlit Chatbot Interface*. GitHub Repository. Retrieved from [here](https://github.com/daveebbelaar/streamlit-chatbot-interface/tree/main).\n",
    "\n",
    "- OpenAI Community. (2025). *Content is a required property error (400)*. Retrieved from [here](https://community.openai.com/t/content-is-required-property-error-400/486260/2).\n",
    "\n",
    "- Stack Overflow. (2025). *Save SHAP summary plot as PDF/SVG*. Retrieved from [here](https://stackoverflow-com.translate.goog/questions/52137579/save-shap-summary-plot-as-pdf-svg?_x_tr_sl=en&_x_tr_tl=es&_x_tr_hl=es-419&_x_tr_pto=sc).\n",
    "\n",
    "- SHAP Documentation. (2025). *Overview of SHAP*. Retrieved from [here](https://shap.readthedocs.io/en/latest/overviews.html).\n",
    "\n",
    "- Stack Overflow. (2025). *Using Python's eval() vs ast.literal_eval()*. Retrieved from [here](https://stackoverflow.com/questions/15197673/using-pythons-eval-vs-ast-literal-eval).\n",
    "\n",
    "- PyPI. (2025). *missingno: Missing Data Visualization Module*. Retrieved from [here](https://pypi.org/project/missingno/). \n",
    "\n",
    "- Kokkotis, C., Giarmatzis, G., Giannakou, E., Moustakidis, S., Tsatalas, T., Tsiptsios, D., ... & Aggelousis, N. (2022). An explainable machine learning pipeline for stroke prediction on imbalanced data. *Diagnostics*, 12(10), 2392.\n",
    "\n",
    "- Chen, T., & Guestrin, C. (2016, August). Xgboost: A scalable tree boosting system. In *Proceedings of the 22nd acm sigkdd international conference on knowledge discovery and data mining* (pp. 785-794).\n",
    "\n",
    "- Grinsztajn, L., Oyallon, E., & Varoquaux, G. (2022). Why do tree-based models still outperform deep learning on typical tabular data?. *Advances in neural information processing systems*, 35, 507-520.\n",
    "\n",
    "- Dev, S., Wang, H., Nwosu, C. S., Jain, N., Veeravalli, B., & John, D. (2022). A predictive analytics approach for stroke prediction using machine learning and neural networks. *Healthcare Analytics*, 2, 100032.\n",
    "\n",
    "- Emon, M. U., Keya, M. S., Meghla, T. I., Rahman, M. M., Al Mamun, M. S., & Kaiser, M. S. (2020, November). Performance analysis of machine learning approaches in stroke prediction. In *2020 4th international conference on electronics, communication and aerospace technology (ICECA)* (pp. 1464-1469). IEEE.\n",
    "\n",
    "- Paszke, A., Gross, S., Chintala, S., Chanan, G., Yang, E., DeVito, Z., Lin, Z., Desmaison, A., Antiga, L., & Lerer, A. (2017). *Automatic differentiation in PyTorch*. Retrieved from [here](https://pytorch.org/docs/).\n",
    "\n",
    "- Fernández, A., Garcia, S., Herrera, F., & Chawla, N. V. (2018). SMOTE for learning from imbalanced data: progress and challenges, marking the 15-year anniversary. *Journal of artificial intelligence research*, 61, 863-905.\n",
    "\n",
    "- Stack Overflow. (2025). *How does the class_weight parameter in scikit-learn work?* Retrieved from [here](https://stackoverflow.com/questions/30972029/how-does-the-class-weight-parameter-in-scikit-learn-work).\n",
    "\n",
    "- GeeksforGeeks. (2025). *How does the class_weight parameter in scikit-learn work?* Retrieved from [here](https://www.geeksforgeeks.org/how-does-the-classweight-parameter-in-scikit-learn-work/).\n",
    "\n",
    "- Analytics Vidhya. (2025). *Improve Class Imbalance with Class Weights*. Retrieved from [here](https://www.analyticsvidhya.com/blog/2020/10/improve-class-imbalance-class-weights/)."
   ]
  }
 ],
 "metadata": {
  "kernelspec": {
   "display_name": "tfm",
   "language": "python",
   "name": "python3"
  },
  "language_info": {
   "codemirror_mode": {
    "name": "ipython",
    "version": 3
   },
   "file_extension": ".py",
   "mimetype": "text/x-python",
   "name": "python",
   "nbconvert_exporter": "python",
   "pygments_lexer": "ipython3",
   "version": "3.12.7"
  }
 },
 "nbformat": 4,
 "nbformat_minor": 2
}
