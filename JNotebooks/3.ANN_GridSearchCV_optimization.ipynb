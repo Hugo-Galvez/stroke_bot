{
 "cells": [
  {
   "cell_type": "markdown",
   "metadata": {},
   "source": [
    "<h1 style=\"text-align: center;\">Stroke Prediction</h1>\n",
    "\n",
    "<h3 style=\"text-align: center;\">3. ANN optimization with GridSearchCV</h3>\n",
    "\n",
    "<p style=\"text-align: center;\">Hugo Gálvez</p>"
   ]
  },
  {
   "cell_type": "code",
   "execution_count": 1,
   "metadata": {},
   "outputs": [],
   "source": [
    "# General libraries\n",
    "import pandas as pd\n",
    "import numpy as np\n",
    "import matplotlib.pyplot as plt\n",
    "import random\n",
    "import joblib\n",
    "\n",
    "# Scikit-learn: preprocessing, models, metrics, and cross-validation\n",
    "from sklearn.model_selection import (\n",
    "    train_test_split, StratifiedKFold, GridSearchCV\n",
    ")\n",
    "from sklearn.compose import ColumnTransformer\n",
    "from sklearn.preprocessing import StandardScaler, OneHotEncoder\n",
    "from sklearn.metrics import (\n",
    "    accuracy_score, precision_score, recall_score, f1_score,\n",
    "    roc_auc_score, confusion_matrix, roc_curve, classification_report\n",
    ")\n",
    "\n",
    "# Imbalanced-learn: SMOTENC\n",
    "from imblearn.over_sampling import SMOTENC\n",
    "from imblearn.pipeline import Pipeline as ImbPipeline\n",
    "\n",
    "# TensorFlow and Keras: creating and training ANN\n",
    "import tensorflow as tf\n",
    "from tensorflow.keras.models import Sequential\n",
    "from tensorflow.keras.layers import Dense, Dropout, Input\n",
    "from tensorflow.keras.optimizers import Adam\n",
    "from scikeras.wrappers import KerasClassifier\n",
    "\n",
    "# Visualization in Jupyter Notebook\n",
    "from IPython.display import display, Markdown"
   ]
  },
  {
   "cell_type": "markdown",
   "metadata": {},
   "source": [
    "## Data Loading\n",
    "\n",
    "In this section, we prepare the data for analysis and optimization using `GridSearchCV`, preprocessing it in the same way as in the model comparison.\n",
    "\n",
    "Key parameters, such as the indices of categorical variables and the fitted preprocessor, are stored, and class weights are specified to handle the dataset's imbalance during the modeling process. This configuration is essential for effectively optimizing and evaluating the models."
   ]
  },
  {
   "cell_type": "code",
   "execution_count": 2,
   "metadata": {},
   "outputs": [
    {
     "data": {
      "text/plain": [
       "['preprocessor.pkl']"
      ]
     },
     "execution_count": 2,
     "metadata": {},
     "output_type": "execute_result"
    }
   ],
   "source": [
    "data = pd.read_csv('cleaned_healthcare_dataset.csv')\n",
    "\n",
    "# Set the global seed\n",
    "seed = 12345\n",
    "tf.random.set_seed(seed)\n",
    "np.random.seed(seed)\n",
    "random.seed(seed)\n",
    "\n",
    "# Separate features and target variable\n",
    "X = data.drop(columns=['stroke'])\n",
    "y = data['stroke']\n",
    "\n",
    "# Split the data into training (67%) and test (33%) with seed = 12345\n",
    "X_train, X_test, y_train, y_test = train_test_split(\n",
    "    X, y, test_size=0.33, random_state=seed, stratify=y\n",
    ")\n",
    "\n",
    "# Column configuration\n",
    "categorical_features = [\n",
    "    'gender', 'hypertension', 'heart_disease', 'ever_married',\n",
    "    'work_type', 'Residence_type', 'smoking_status'\n",
    "]\n",
    "numerical_features = ['age', 'avg_glucose_level', 'bmi']\n",
    "\n",
    "# Encode categorical variables with OneHotEncoder and scale numerical variables\n",
    "preprocessor = ColumnTransformer(\n",
    "    transformers=[('num', StandardScaler(), numerical_features),\n",
    "        ('cat', OneHotEncoder(handle_unknown='ignore'), categorical_features)]\n",
    ")\n",
    "\n",
    "# Fit and transform the data\n",
    "X_train_transformed = preprocessor.fit_transform(X_train)\n",
    "X_test_transformed = preprocessor.transform(X_test)\n",
    "\n",
    "# Determine input dimensions\n",
    "input_dim = X_train_transformed.shape[1]\n",
    "\n",
    "# Identify the indices of categorical features after preprocessing\n",
    "categorical_indices = list(range(len(numerical_features), \n",
    "                                  len(numerical_features) +\n",
    "                                  len(categorical_features)))\n",
    "\n",
    "# Cross-validation configuration\n",
    "cv = StratifiedKFold(n_splits=5, shuffle=True, random_state=seed)\n",
    "\n",
    "# Initialize an empty DataFrame to store results\n",
    "results_df = pd.DataFrame()\n",
    "\n",
    "# Define class weights\n",
    "class_weights = {0: 1.0, 1: 2}\n",
    "\n",
    "# Save the fitted preprocessor\n",
    "joblib.dump(preprocessor, 'preprocessor.pkl')"
   ]
  },
  {
   "cell_type": "markdown",
   "metadata": {},
   "source": [
    "To define class weights, several strategies such as `class_weight='balanced'` were tested, but the weight assigned to `stroke` was too high and negatively impacted the efficiency of the ANN. After several manual tests, weights were determined as `1:2`, which provided the most balanced metrics for both classes.\n",
    "\n",
    "## ANN Function\n",
    "\n",
    "We define a function to create Artificial Neural Network (ANN) models with a customizable architecture. The function allows adjusting key parameters such as the number of hidden layers, dropout rate to prevent overfitting, learning rate, and input dimensions for the model.\n",
    "\n",
    "The model uses dense layers with ReLU activation to capture non-linear relationships and ends with a sigmoid output layer for binary predictions. Additionally, it is compiled with the Adam optimizer, which combines efficiency and stability, and is evaluated using the `binary_crossentropy` loss function, suitable for binary classification problems, along with `accuracy` and AUC metrics to measure overall performance.\n",
    "\n",
    "Finally, an instance of the model is generated with the defined configuration, and `summary()` is used to visualize the architecture, allowing for a review of its design before training."
   ]
  },
  {
   "cell_type": "code",
   "execution_count": 3,
   "metadata": {},
   "outputs": [
    {
     "data": {
      "text/html": [
       "<pre style=\"white-space:pre;overflow-x:auto;line-height:normal;font-family:Menlo,'DejaVu Sans Mono',consolas,'Courier New',monospace\"><span style=\"font-weight: bold\">Model: \"sequential\"</span>\n",
       "</pre>\n"
      ],
      "text/plain": [
       "\u001b[1mModel: \"sequential\"\u001b[0m\n"
      ]
     },
     "metadata": {},
     "output_type": "display_data"
    },
    {
     "data": {
      "text/html": [
       "<pre style=\"white-space:pre;overflow-x:auto;line-height:normal;font-family:Menlo,'DejaVu Sans Mono',consolas,'Courier New',monospace\">┏━━━━━━━━━━━━━━━━━━━━━━━━━━━━━━━━━┳━━━━━━━━━━━━━━━━━━━━━━━━┳━━━━━━━━━━━━━━━┓\n",
       "┃<span style=\"font-weight: bold\"> Layer (type)                    </span>┃<span style=\"font-weight: bold\"> Output Shape           </span>┃<span style=\"font-weight: bold\">       Param # </span>┃\n",
       "┡━━━━━━━━━━━━━━━━━━━━━━━━━━━━━━━━━╇━━━━━━━━━━━━━━━━━━━━━━━━╇━━━━━━━━━━━━━━━┩\n",
       "│ dense (<span style=\"color: #0087ff; text-decoration-color: #0087ff\">Dense</span>)                   │ (<span style=\"color: #00d7ff; text-decoration-color: #00d7ff\">None</span>, <span style=\"color: #00af00; text-decoration-color: #00af00\">50</span>)             │           <span style=\"color: #00af00; text-decoration-color: #00af00\">950</span> │\n",
       "├─────────────────────────────────┼────────────────────────┼───────────────┤\n",
       "│ dropout (<span style=\"color: #0087ff; text-decoration-color: #0087ff\">Dropout</span>)               │ (<span style=\"color: #00d7ff; text-decoration-color: #00d7ff\">None</span>, <span style=\"color: #00af00; text-decoration-color: #00af00\">50</span>)             │             <span style=\"color: #00af00; text-decoration-color: #00af00\">0</span> │\n",
       "├─────────────────────────────────┼────────────────────────┼───────────────┤\n",
       "│ dense_1 (<span style=\"color: #0087ff; text-decoration-color: #0087ff\">Dense</span>)                 │ (<span style=\"color: #00d7ff; text-decoration-color: #00d7ff\">None</span>, <span style=\"color: #00af00; text-decoration-color: #00af00\">1</span>)              │            <span style=\"color: #00af00; text-decoration-color: #00af00\">51</span> │\n",
       "└─────────────────────────────────┴────────────────────────┴───────────────┘\n",
       "</pre>\n"
      ],
      "text/plain": [
       "┏━━━━━━━━━━━━━━━━━━━━━━━━━━━━━━━━━┳━━━━━━━━━━━━━━━━━━━━━━━━┳━━━━━━━━━━━━━━━┓\n",
       "┃\u001b[1m \u001b[0m\u001b[1mLayer (type)                   \u001b[0m\u001b[1m \u001b[0m┃\u001b[1m \u001b[0m\u001b[1mOutput Shape          \u001b[0m\u001b[1m \u001b[0m┃\u001b[1m \u001b[0m\u001b[1m      Param #\u001b[0m\u001b[1m \u001b[0m┃\n",
       "┡━━━━━━━━━━━━━━━━━━━━━━━━━━━━━━━━━╇━━━━━━━━━━━━━━━━━━━━━━━━╇━━━━━━━━━━━━━━━┩\n",
       "│ dense (\u001b[38;5;33mDense\u001b[0m)                   │ (\u001b[38;5;45mNone\u001b[0m, \u001b[38;5;34m50\u001b[0m)             │           \u001b[38;5;34m950\u001b[0m │\n",
       "├─────────────────────────────────┼────────────────────────┼───────────────┤\n",
       "│ dropout (\u001b[38;5;33mDropout\u001b[0m)               │ (\u001b[38;5;45mNone\u001b[0m, \u001b[38;5;34m50\u001b[0m)             │             \u001b[38;5;34m0\u001b[0m │\n",
       "├─────────────────────────────────┼────────────────────────┼───────────────┤\n",
       "│ dense_1 (\u001b[38;5;33mDense\u001b[0m)                 │ (\u001b[38;5;45mNone\u001b[0m, \u001b[38;5;34m1\u001b[0m)              │            \u001b[38;5;34m51\u001b[0m │\n",
       "└─────────────────────────────────┴────────────────────────┴───────────────┘\n"
      ]
     },
     "metadata": {},
     "output_type": "display_data"
    },
    {
     "data": {
      "text/html": [
       "<pre style=\"white-space:pre;overflow-x:auto;line-height:normal;font-family:Menlo,'DejaVu Sans Mono',consolas,'Courier New',monospace\"><span style=\"font-weight: bold\"> Total params: </span><span style=\"color: #00af00; text-decoration-color: #00af00\">1,001</span> (3.91 KB)\n",
       "</pre>\n"
      ],
      "text/plain": [
       "\u001b[1m Total params: \u001b[0m\u001b[38;5;34m1,001\u001b[0m (3.91 KB)\n"
      ]
     },
     "metadata": {},
     "output_type": "display_data"
    },
    {
     "data": {
      "text/html": [
       "<pre style=\"white-space:pre;overflow-x:auto;line-height:normal;font-family:Menlo,'DejaVu Sans Mono',consolas,'Courier New',monospace\"><span style=\"font-weight: bold\"> Trainable params: </span><span style=\"color: #00af00; text-decoration-color: #00af00\">1,001</span> (3.91 KB)\n",
       "</pre>\n"
      ],
      "text/plain": [
       "\u001b[1m Trainable params: \u001b[0m\u001b[38;5;34m1,001\u001b[0m (3.91 KB)\n"
      ]
     },
     "metadata": {},
     "output_type": "display_data"
    },
    {
     "data": {
      "text/html": [
       "<pre style=\"white-space:pre;overflow-x:auto;line-height:normal;font-family:Menlo,'DejaVu Sans Mono',consolas,'Courier New',monospace\"><span style=\"font-weight: bold\"> Non-trainable params: </span><span style=\"color: #00af00; text-decoration-color: #00af00\">0</span> (0.00 B)\n",
       "</pre>\n"
      ],
      "text/plain": [
       "\u001b[1m Non-trainable params: \u001b[0m\u001b[38;5;34m0\u001b[0m (0.00 B)\n"
      ]
     },
     "metadata": {},
     "output_type": "display_data"
    }
   ],
   "source": [
    "def create_model(layers=(50,),\n",
    "                       dropout_rate=0.3,\n",
    "                       learning_rate=0.001,\n",
    "                       input_dim=None):  \n",
    "    model = Sequential()\n",
    "    model.add(Input(shape=(input_dim,)))\n",
    "    for units in layers:\n",
    "        model.add(Dense(units, activation='relu'))\n",
    "        model.add(Dropout(dropout_rate))\n",
    "    model.add(Dense(1, activation='sigmoid'))\n",
    "    model.compile(optimizer=Adam(learning_rate=learning_rate),\n",
    "                  loss='binary_crossentropy',\n",
    "                  metrics=['accuracy', 'AUC'])\n",
    "    return model\n",
    "\n",
    "model = create_model(input_dim=input_dim)\n",
    "model.summary()"
   ]
  },
  {
   "cell_type": "markdown",
   "metadata": {},
   "source": [
    "## GridSearchCV Configuration\n",
    "\n",
    "In this section, we set up the optimization pipeline for Artificial Neural Networks (ANN) using `GridSearchCV`. First, we create a `KerasClassifier` wrapper that converts our Keras model into a `scikit-learn`-compatible estimator, simplifying the hyperparameter search process. This wrapper allows tuning key aspects of the model, such as layer architecture, dropout rate, learning rate, batch size, and the number of epochs.\n",
    "\n",
    "We define a search space for relevant hyperparameters, exploring combinations of configurations to find the best architecture and training parameters. The pipeline includes steps to:\n",
    "1. **Preprocess the data** using the previously fitted preprocessor.\n",
    "2. **Balance the classes** with `SMOTENC`, which generates synthetic samples while respecting categorical features.\n",
    "3. **Train the model** using the `KerasClassifier` wrapper.\n",
    "\n",
    "We also configure `GridSearchCV` to perform stratified cross-validation, maximizing the `ROC-AUC` metric. This ensures that the final model is not only accurate but also effective at class discrimination, especially in an imbalanced dataset."
   ]
  },
  {
   "cell_type": "code",
   "execution_count": 4,
   "metadata": {},
   "outputs": [],
   "source": [
    "# Create the KerasClassifier wrapper\n",
    "keras_clf = KerasClassifier(\n",
    "    model=create_model,\n",
    "    layers=(50,), \n",
    "    dropout_rate=0.3,\n",
    "    learning_rate=0.001,\n",
    "    input_dim=input_dim, \n",
    "    batch_size=64,\n",
    "    epochs=20,\n",
    "    verbose=0,\n",
    "    random_state=seed\n",
    ")\n",
    "\n",
    "# Define the hyperparameter space for searching\n",
    "param_grid = {\n",
    "    \"model__layers\": [(50,), (50, 10), (100, 50)],\n",
    "    \"model__dropout_rate\": [0.2, 0.3, 0.4],\n",
    "    \"model__learning_rate\": [0.001, 0.01],\n",
    "    \"model__batch_size\": [64, 128],\n",
    "    \"model__epochs\": [20, 50],\n",
    "}\n",
    "\n",
    "# Create the pipeline\n",
    "pipeline = ImbPipeline(steps=[\n",
    "    ('preprocessor', preprocessor),  # Preprocessing\n",
    "    ('smote', SMOTENC(categorical_features=categorical_indices,\n",
    "                      random_state=seed)),  # Balancing\n",
    "    ('model', keras_clf)  # KerasClassifier model\n",
    "])\n",
    "\n",
    "# Configure GridSearchCV\n",
    "grid_search = GridSearchCV(\n",
    "    estimator=pipeline,\n",
    "    param_grid=param_grid,\n",
    "    scoring=\"roc_auc\",\n",
    "    cv=cv,\n",
    "    verbose=1,\n",
    "    n_jobs=-1\n",
    ")"
   ]
  },
  {
   "cell_type": "markdown",
   "metadata": {},
   "source": [
    "## GridSearchCV Execution\n",
    "\n",
    "We train the previously configured pipeline. During this process, the model is fitted to the training data, and the defined hyperparameter combinations are explored to identify the optimal configuration.\n",
    "\n",
    "Class weights (`class_weight`) are incorporated directly into the model to handle dataset imbalance, ensuring that the minority class receives higher weighting during training, which improves its representation in predictions.\n",
    "\n",
    "At the end, the best hyperparameters found are printed, providing key information about the optimal configuration to maximize the model's performance in terms of the `ROC AUC` metric. This step is essential to select the most effective version of the model for the given problem."
   ]
  },
  {
   "cell_type": "code",
   "execution_count": 5,
   "metadata": {},
   "outputs": [
    {
     "name": "stdout",
     "output_type": "stream",
     "text": [
      "Fitting 5 folds for each of 72 candidates, totalling 360 fits\n",
      "Best hyperparameters found:\n",
      "{'model__batch_size': 128, 'model__dropout_rate': 0.4, 'model__epochs': 20, 'model__layers': (50, 10), 'model__learning_rate': 0.001}\n"
     ]
    }
   ],
   "source": [
    "# Train the pipeline with GridSearchCV, passing the class weights\n",
    "grid_search.fit(X_train, y_train, model__class_weight=class_weights)\n",
    "\n",
    "# Display the best hyperparameters\n",
    "print(\"Best hyperparameters found:\")\n",
    "print(grid_search.best_params_)"
   ]
  },
  {
   "cell_type": "markdown",
   "metadata": {},
   "source": [
    "## GridSearchCV Results\n",
    "\n",
    "During the optimization process, `GridSearchCV` evaluated 360 combinations of hyperparameters using cross-validation, identifying the optimal configuration for the model. The best hyperparameters found were:\n",
    "- **Batch size:** 128  \n",
    "- **Dropout rate:** 0.4  \n",
    "- **Number of epochs:** 20  \n",
    "- **Layers:** (50, 10)  \n",
    "- **Learning rate:** 0.001  \n",
    "\n",
    "These values represent the appropriate balance between complexity, regularization, and the model's learning capacity to maximize performance in terms of the `ROC AUC` metric.\n",
    "\n",
    "Subsequently, the best fitted model is saved as a `.keras` file for future reuse in subsequent analyses. Additionally, `summary()` is used to confirm the structure of the final model, providing a clear view of its optimized architecture. This ensures traceability and allows for future evaluations or implementations without the need to retrain the model."
   ]
  },
  {
   "cell_type": "code",
   "execution_count": 6,
   "metadata": {},
   "outputs": [
    {
     "data": {
      "text/html": [
       "<pre style=\"white-space:pre;overflow-x:auto;line-height:normal;font-family:Menlo,'DejaVu Sans Mono',consolas,'Courier New',monospace\"><span style=\"font-weight: bold\">Model: \"sequential_1\"</span>\n",
       "</pre>\n"
      ],
      "text/plain": [
       "\u001b[1mModel: \"sequential_1\"\u001b[0m\n"
      ]
     },
     "metadata": {},
     "output_type": "display_data"
    },
    {
     "data": {
      "text/html": [
       "<pre style=\"white-space:pre;overflow-x:auto;line-height:normal;font-family:Menlo,'DejaVu Sans Mono',consolas,'Courier New',monospace\">┏━━━━━━━━━━━━━━━━━━━━━━━━━━━━━━━━━┳━━━━━━━━━━━━━━━━━━━━━━━━┳━━━━━━━━━━━━━━━┓\n",
       "┃<span style=\"font-weight: bold\"> Layer (type)                    </span>┃<span style=\"font-weight: bold\"> Output Shape           </span>┃<span style=\"font-weight: bold\">       Param # </span>┃\n",
       "┡━━━━━━━━━━━━━━━━━━━━━━━━━━━━━━━━━╇━━━━━━━━━━━━━━━━━━━━━━━━╇━━━━━━━━━━━━━━━┩\n",
       "│ dense_2 (<span style=\"color: #0087ff; text-decoration-color: #0087ff\">Dense</span>)                 │ (<span style=\"color: #00d7ff; text-decoration-color: #00d7ff\">None</span>, <span style=\"color: #00af00; text-decoration-color: #00af00\">50</span>)             │           <span style=\"color: #00af00; text-decoration-color: #00af00\">950</span> │\n",
       "├─────────────────────────────────┼────────────────────────┼───────────────┤\n",
       "│ dropout_1 (<span style=\"color: #0087ff; text-decoration-color: #0087ff\">Dropout</span>)             │ (<span style=\"color: #00d7ff; text-decoration-color: #00d7ff\">None</span>, <span style=\"color: #00af00; text-decoration-color: #00af00\">50</span>)             │             <span style=\"color: #00af00; text-decoration-color: #00af00\">0</span> │\n",
       "├─────────────────────────────────┼────────────────────────┼───────────────┤\n",
       "│ dense_3 (<span style=\"color: #0087ff; text-decoration-color: #0087ff\">Dense</span>)                 │ (<span style=\"color: #00d7ff; text-decoration-color: #00d7ff\">None</span>, <span style=\"color: #00af00; text-decoration-color: #00af00\">10</span>)             │           <span style=\"color: #00af00; text-decoration-color: #00af00\">510</span> │\n",
       "├─────────────────────────────────┼────────────────────────┼───────────────┤\n",
       "│ dropout_2 (<span style=\"color: #0087ff; text-decoration-color: #0087ff\">Dropout</span>)             │ (<span style=\"color: #00d7ff; text-decoration-color: #00d7ff\">None</span>, <span style=\"color: #00af00; text-decoration-color: #00af00\">10</span>)             │             <span style=\"color: #00af00; text-decoration-color: #00af00\">0</span> │\n",
       "├─────────────────────────────────┼────────────────────────┼───────────────┤\n",
       "│ dense_4 (<span style=\"color: #0087ff; text-decoration-color: #0087ff\">Dense</span>)                 │ (<span style=\"color: #00d7ff; text-decoration-color: #00d7ff\">None</span>, <span style=\"color: #00af00; text-decoration-color: #00af00\">1</span>)              │            <span style=\"color: #00af00; text-decoration-color: #00af00\">11</span> │\n",
       "└─────────────────────────────────┴────────────────────────┴───────────────┘\n",
       "</pre>\n"
      ],
      "text/plain": [
       "┏━━━━━━━━━━━━━━━━━━━━━━━━━━━━━━━━━┳━━━━━━━━━━━━━━━━━━━━━━━━┳━━━━━━━━━━━━━━━┓\n",
       "┃\u001b[1m \u001b[0m\u001b[1mLayer (type)                   \u001b[0m\u001b[1m \u001b[0m┃\u001b[1m \u001b[0m\u001b[1mOutput Shape          \u001b[0m\u001b[1m \u001b[0m┃\u001b[1m \u001b[0m\u001b[1m      Param #\u001b[0m\u001b[1m \u001b[0m┃\n",
       "┡━━━━━━━━━━━━━━━━━━━━━━━━━━━━━━━━━╇━━━━━━━━━━━━━━━━━━━━━━━━╇━━━━━━━━━━━━━━━┩\n",
       "│ dense_2 (\u001b[38;5;33mDense\u001b[0m)                 │ (\u001b[38;5;45mNone\u001b[0m, \u001b[38;5;34m50\u001b[0m)             │           \u001b[38;5;34m950\u001b[0m │\n",
       "├─────────────────────────────────┼────────────────────────┼───────────────┤\n",
       "│ dropout_1 (\u001b[38;5;33mDropout\u001b[0m)             │ (\u001b[38;5;45mNone\u001b[0m, \u001b[38;5;34m50\u001b[0m)             │             \u001b[38;5;34m0\u001b[0m │\n",
       "├─────────────────────────────────┼────────────────────────┼───────────────┤\n",
       "│ dense_3 (\u001b[38;5;33mDense\u001b[0m)                 │ (\u001b[38;5;45mNone\u001b[0m, \u001b[38;5;34m10\u001b[0m)             │           \u001b[38;5;34m510\u001b[0m │\n",
       "├─────────────────────────────────┼────────────────────────┼───────────────┤\n",
       "│ dropout_2 (\u001b[38;5;33mDropout\u001b[0m)             │ (\u001b[38;5;45mNone\u001b[0m, \u001b[38;5;34m10\u001b[0m)             │             \u001b[38;5;34m0\u001b[0m │\n",
       "├─────────────────────────────────┼────────────────────────┼───────────────┤\n",
       "│ dense_4 (\u001b[38;5;33mDense\u001b[0m)                 │ (\u001b[38;5;45mNone\u001b[0m, \u001b[38;5;34m1\u001b[0m)              │            \u001b[38;5;34m11\u001b[0m │\n",
       "└─────────────────────────────────┴────────────────────────┴───────────────┘\n"
      ]
     },
     "metadata": {},
     "output_type": "display_data"
    },
    {
     "data": {
      "text/html": [
       "<pre style=\"white-space:pre;overflow-x:auto;line-height:normal;font-family:Menlo,'DejaVu Sans Mono',consolas,'Courier New',monospace\"><span style=\"font-weight: bold\"> Total params: </span><span style=\"color: #00af00; text-decoration-color: #00af00\">4,415</span> (17.25 KB)\n",
       "</pre>\n"
      ],
      "text/plain": [
       "\u001b[1m Total params: \u001b[0m\u001b[38;5;34m4,415\u001b[0m (17.25 KB)\n"
      ]
     },
     "metadata": {},
     "output_type": "display_data"
    },
    {
     "data": {
      "text/html": [
       "<pre style=\"white-space:pre;overflow-x:auto;line-height:normal;font-family:Menlo,'DejaVu Sans Mono',consolas,'Courier New',monospace\"><span style=\"font-weight: bold\"> Trainable params: </span><span style=\"color: #00af00; text-decoration-color: #00af00\">1,471</span> (5.75 KB)\n",
       "</pre>\n"
      ],
      "text/plain": [
       "\u001b[1m Trainable params: \u001b[0m\u001b[38;5;34m1,471\u001b[0m (5.75 KB)\n"
      ]
     },
     "metadata": {},
     "output_type": "display_data"
    },
    {
     "data": {
      "text/html": [
       "<pre style=\"white-space:pre;overflow-x:auto;line-height:normal;font-family:Menlo,'DejaVu Sans Mono',consolas,'Courier New',monospace\"><span style=\"font-weight: bold\"> Non-trainable params: </span><span style=\"color: #00af00; text-decoration-color: #00af00\">0</span> (0.00 B)\n",
       "</pre>\n"
      ],
      "text/plain": [
       "\u001b[1m Non-trainable params: \u001b[0m\u001b[38;5;34m0\u001b[0m (0.00 B)\n"
      ]
     },
     "metadata": {},
     "output_type": "display_data"
    },
    {
     "data": {
      "text/html": [
       "<pre style=\"white-space:pre;overflow-x:auto;line-height:normal;font-family:Menlo,'DejaVu Sans Mono',consolas,'Courier New',monospace\"><span style=\"font-weight: bold\"> Optimizer params: </span><span style=\"color: #00af00; text-decoration-color: #00af00\">2,944</span> (11.50 KB)\n",
       "</pre>\n"
      ],
      "text/plain": [
       "\u001b[1m Optimizer params: \u001b[0m\u001b[38;5;34m2,944\u001b[0m (11.50 KB)\n"
      ]
     },
     "metadata": {},
     "output_type": "display_data"
    }
   ],
   "source": [
    "# Save the complete model\n",
    "best_model = grid_search.best_estimator_.named_steps['model'].model_\n",
    "best_model.save(\"best_ann.keras\")\n",
    "best_model.summary()"
   ]
  },
  {
   "cell_type": "markdown",
   "metadata": {},
   "source": [
    "## Evaluation of the Best Model\n",
    "\n",
    "This function evaluates the optimized model on the test set, calculating key metrics such as accuracy, precision, recall, F1-score, and AUC-ROC. It also generates the ROC curve to visualize performance in class discrimination and displays a classification report with per-class metrics. Finally, it stores the results in a list to facilitate comparison with other models. This ensures the model is evaluated under the same conditions as the rest of the models."
   ]
  },
  {
   "cell_type": "code",
   "execution_count": 7,
   "metadata": {},
   "outputs": [],
   "source": [
    "def evaluate_pipeline(best_model,\n",
    "                      X_test, y_test,\n",
    "                      results_list,\n",
    "                      model_name=None):\n",
    "    \"\"\"\n",
    "    Evaluates the optimized pipeline on the test set.\n",
    "    \n",
    "    Parameters:\n",
    "    - best_model: The best pipeline from GridSearchCV.\n",
    "    - X_test: Test set (unprocessed).\n",
    "    - y_test: Test set labels.\n",
    "    - results_list: List to store the results.\n",
    "    - model_name: Name of the model (optional).\n",
    "    \n",
    "    Returns:\n",
    "    - None\n",
    "    \"\"\"\n",
    "    model_name = model_name or \"Optimized Pipeline\"\n",
    "    \n",
    "    # Predict probabilities and labels\n",
    "    y_test_pred_proba = best_model.predict_proba(X_test)[:, 1]\n",
    "    y_test_pred = best_model.predict(X_test)\n",
    "    \n",
    "    # Calculate metrics\n",
    "    test_results = {\n",
    "        'Accuracy Test': accuracy_score(y_test, y_test_pred),\n",
    "        'Precision Test': precision_score(y_test, y_test_pred,\n",
    "                                          average='weighted'),\n",
    "        'Recall Test': recall_score(y_test, y_test_pred, average='weighted'),\n",
    "        'F1 Test': f1_score(y_test, y_test_pred, average='weighted'),\n",
    "        'AUC-ROC Test': roc_auc_score(y_test, y_test_pred_proba),\n",
    "        'Confusion Matrix': confusion_matrix(y_test, y_test_pred).tolist()\n",
    "    }\n",
    "    \n",
    "    # ROC Curve\n",
    "    fpr, tpr, _ = roc_curve(y_test, y_test_pred_proba)\n",
    "    plt.figure(figsize=(8, 6))\n",
    "    plt.plot(fpr,\n",
    "             tpr,\n",
    "             label=f'{model_name} - AUC: {test_results[\"AUC-ROC Test\"]:.4f}')\n",
    "    plt.plot([0, 1], [0, 1], linestyle='--', color='gray')\n",
    "    plt.xlabel('False Positive Rate')\n",
    "    plt.ylabel('True Positive Rate')\n",
    "    plt.title('ROC Curve')\n",
    "    plt.legend()\n",
    "    plt.grid()\n",
    "    plt.show()\n",
    "    \n",
    "    # Classification report\n",
    "    print(\"Classification Report - Test Set\")\n",
    "    print(classification_report(y_test,\n",
    "                                y_test_pred,\n",
    "                                target_names=['No Stroke', 'Stroke']))\n",
    "    \n",
    "    # Save results in the list\n",
    "    results_list.append({'Model': model_name, **test_results})\n",
    "    return test_results"
   ]
  },
  {
   "cell_type": "markdown",
   "metadata": {},
   "source": [
    "We evaluated the optimized model (ANN) on the test set using the previously defined function."
   ]
  },
  {
   "cell_type": "code",
   "execution_count": 8,
   "metadata": {},
   "outputs": [
    {
     "data": {
      "image/png": "[encoded data removed]",
      "text/plain": [
       "<Figure size 800x600 with 1 Axes>"
      ]
     },
     "metadata": {},
     "output_type": "display_data"
    },
    {
     "name": "stdout",
     "output_type": "stream",
     "text": [
      "Classification Report - Test Set\n",
      "              precision    recall  f1-score   support\n",
      "\n",
      "   No Stroke       0.99      0.68      0.80      1544\n",
      "      Stroke       0.10      0.81      0.18        69\n",
      "\n",
      "    accuracy                           0.68      1613\n",
      "   macro avg       0.54      0.74      0.49      1613\n",
      "weighted avg       0.95      0.68      0.78      1613\n",
      "\n"
     ]
    },
    {
     "data": {
      "text/markdown": [
       "| Model         |   Accuracy Test |   Precision Test |   Recall Test |   F1 Test |   AUC-ROC Test | Confusion Matrix        |\n",
       "|:--------------|----------------:|-----------------:|--------------:|----------:|---------------:|:------------------------|\n",
       "| ANN Optimized |        0.683819 |         0.949815 |      0.683819 |  0.777451 |       0.810121 | [[1047, 497], [13, 56]] |"
      ],
      "text/plain": [
       "<IPython.core.display.Markdown object>"
      ]
     },
     "metadata": {},
     "output_type": "display_data"
    }
   ],
   "source": [
    "results_list = []\n",
    "test_metrics = evaluate_pipeline(\n",
    "    best_model=grid_search.best_estimator_,\n",
    "    X_test=X_test,\n",
    "    y_test=y_test,\n",
    "    results_list=results_list,\n",
    "    model_name=\"ANN Optimized\",\n",
    ")\n",
    "\n",
    "ann_results_df = pd.DataFrame(results_list)\n",
    "display(Markdown(ann_results_df.to_markdown(index=False)))"
   ]
  },
  {
   "cell_type": "markdown",
   "metadata": {},
   "source": [
    "## Results After Optimization\n",
    "\n",
    "The optimization of the ANN model has achieved improvements in key areas but also introduced trade-offs in overall performance:\n",
    "\n",
    "### **Before vs. After Optimization Comparison**\n",
    "\n",
    "| Category               | Metric         | Before  | After    | Observation                                                                                          |\n",
    "|-------------------------|---------------|---------|----------|-----------------------------------------------------------------------------------------------------|\n",
    "| **AUC-ROC Test**        |               | 0.7936  | 0.8101   | Significant improvement in the ability to discriminate between classes, useful for imbalanced problems. |\n",
    "| **Majority Class** `No Stroke`   | Precision     | 0.9744  | 0.99     | Marginal improvement, indicating fewer false positives for this class.                              |\n",
    "|                         | Recall        | 0.8387  | 0.68     | Notable reduction in correctly identifying instances of the majority class.                         |\n",
    "|                         | F1-score      | 0.9015  | 0.80     | Decrease in the balance between precision and recall.                                               |\n",
    "| **Minority Class** `Stroke`  | Precision     | 0.1232  | 0.10     | Slight decrease, with more false positives for this class.                                          |\n",
    "|                         | Recall        | 0.5072  | 0.81     | Drastic improvement, enhancing the detection of positive cases.                                    |\n",
    "|                         | F1-score      | 0.1983  | 0.18     | Similar result, though the recall improvement compromises precision.                                |\n",
    "| **Global Metrics**      | Accuracy      | 0.8245  | 0.6838     | Significant reduction due to the redistribution of the class balance.                              |\n",
    "|                         | Weighted F1-score | 0.8714  | 0.78     | Reduction reflects a lower overall performance in handling both classes.                           |\n",
    "\n",
    "### **Conclusion**\n",
    "After optimization, the model has been adjusted to improve the **recall of the minority class** `Stroke`, increasing from **0.53** to **0.81**, which is critical in a clinical context where false negatives have significant consequences. However, this adjustment negatively impacted the **recall of the majority class** and global metrics such as accuracy and weighted F1-score. This reflects a shift in focus toward prioritizing the identification of positive cases at the expense of global prediction precision.\n",
    "\n",
    "In practical applications, this configuration may be more useful if the objective is to minimize false negatives in the minority class."
   ]
  },
  {
   "cell_type": "markdown",
   "metadata": {},
   "source": [
    "# Referencias\n",
    "\n",
    "- Angermueller, C., Pärnamaa, T., Parts, L., & Stegle, O. (2016). Deep learning for computational biology. *Molecular systems biology*, 12(7), 878.\n",
    "\n",
    "- Bosch Rué, A., Casas Roma, J., & Lozano Bagén, T. (2019). *Deep Learning: Principios y Fundamentos*. Editorial UOC. Retrieved from [here](http://www.editorialuoc.com).\n",
    "\n",
    "- Codecademy. (2024). *Normalization*. Retrieved from [here](https://www.codecademy.com/article/normalization).\n",
    "\n",
    "- DataCamp. (2024). *Normalization in Machine Learning*. Retrieved from [here](https://www.datacamp.com/tutorial/normalization-in-machine-learning).\n",
    "\n",
    "- Hunter, J. D. (2007). Matplotlib: A 2D Graphics Environment. *Computing in Science & Engineering*, 9(3), 90-95. doi: 10.1109/MCSE.2007.55.\n",
    "\n",
    "- IBM. (2024). *Jupyter Notebook Markdown Cheatsheet*. Retrieved from [here](https://www.ibm.com/docs/en/watson-studio-local/1.2.3?topic=notebooks-markdown-jupyter-cheatsheet).\n",
    "\n",
    "- Keras. (2024). *Keras Examples*. Retrieved from [here](https://keras.io/examples/).\n",
    "\n",
    "- LeCun, Y., Bengio, Y., & Hinton, G. (2015). Deep learning. *Nature*, 521(7553), 436-444. DOI: 10.1038/nature14539.\n",
    "\n",
    "- Neural networks with Python by Joaquín Amat Rodrigo, available under CC BY-NC-SA 4.0 license [here](https://www.cienciadedatos.net/documentos/py35-redes-neuronales-python).\n",
    "\n",
    "- Scikit-learn: Machine Learning in Python. (2011). *Journal of Machine Learning Research*, 12, 2825-2830.\n",
    "\n",
    "- TensorFlow. (2024). *tf.keras.utils.plot_model*. Retrieved from [here](https://www.tensorflow.org/api_docs/python/tf/keras/utils/plot_model).\n",
    "\n",
    "- Waskom, M. L. (2021). seaborn: statistical data visualization. *Journal of Open Source Software*, 6(60), 3021. [DOI](https://doi.org/10.21105/joss.03021).\n",
    "\n",
    "- Machine Learning with Python and Scikit-learn by Joaquín Amat Rodrigo, available under CC BY-NC-SA 4.0 license [here](https://www.cienciadedatos.net/documentos/py06_machine_learning_python_scikitlearn).\n",
    "\n",
    "- Pedregosa, F., Varoquaux, G., Gramfort, A., Michel, V., Thirion, B., Grisel, O., ... Duchesnay, E. (2011). Scikit-learn: Machine Learning in Python. Journal of Machine Learning Research, 12, 2825-2830.\n",
    "\n",
    "- Calibrate machine learning models by Joaquín Amat Rodrigo, available under CC BY-NC-SA 4.0 license [here](https://www.cienciadedatos.net/documentos/py11-calibrar-modelos-machine-learning).\n",
    "\n",
    "- Machine Learning with Python and Scikitlearn by Joaquín Amat Rodrigo, available under CC BY-NC-SA 4.0 license [here](https://www.cienciadedatos.net/documentos/py06_machine_learning_python_scikitlearn).\n",
    "\n",
    "- Neural networks with Python by Joaquín Amat Rodrigo, available under CC BY-NC-SA 4.0 license [here](https://www.cienciadedatos.net/documentos/py35-redes-neuronales-python).\n",
    "\n",
    "- Multiple linear regression with Python by Joaquín Amat Rodrigo, available under CC BY-NC-SA 4.0 license [here](https://www.cienciadedatos.net/documentos/py10b-regresion-lineal-multiple-python).\n",
    "\n",
    "- Using pandas category to encode categorical variables in machine learning models by Joaquín Amat Rodrigo, available under CC BY-NC-SA 4.0 license [here](https://www.cienciadedatos.net/documentos/py55-pandas-category-modelos-machine-learning). \n",
    "\n",
    "- OpenAI Community. (2025). *Issue with accessing 'choices' attribute from OpenAI API response*. Retrieved from [here](https://community.openai.com/t/issue-with-accessing-choices-attribute-from-openai-api-response/362725).\n",
    "\n",
    "- Ebbelaar, D. (2025). *Streamlit Chatbot Interface*. GitHub Repository. Retrieved from [here](https://github.com/daveebbelaar/streamlit-chatbot-interface/tree/main).\n",
    "\n",
    "- OpenAI Community. (2025). *Content is a required property error (400)*. Retrieved from [here](https://community.openai.com/t/content-is-required-property-error-400/486260/2).\n",
    "\n",
    "- Stack Overflow. (2025). *Save SHAP summary plot as PDF/SVG*. Retrieved from [here](https://stackoverflow-com.translate.goog/questions/52137579/save-shap-summary-plot-as-pdf-svg?_x_tr_sl=en&_x_tr_tl=es&_x_tr_hl=es-419&_x_tr_pto=sc).\n",
    "\n",
    "- SHAP Documentation. (2025). *Overview of SHAP*. Retrieved from [here](https://shap.readthedocs.io/en/latest/overviews.html).\n",
    "\n",
    "- Stack Overflow. (2025). *Using Python's eval() vs ast.literal_eval()*. Retrieved from [here](https://stackoverflow.com/questions/15197673/using-pythons-eval-vs-ast-literal-eval).\n",
    "\n",
    "- PyPI. (2025). *missingno: Missing Data Visualization Module*. Retrieved from [here](https://pypi.org/project/missingno/). \n",
    "\n",
    "- Kokkotis, C., Giarmatzis, G., Giannakou, E., Moustakidis, S., Tsatalas, T., Tsiptsios, D., ... & Aggelousis, N. (2022). An explainable machine learning pipeline for stroke prediction on imbalanced data. *Diagnostics*, 12(10), 2392.\n",
    "\n",
    "- Chen, T., & Guestrin, C. (2016, August). Xgboost: A scalable tree boosting system. In *Proceedings of the 22nd acm sigkdd international conference on knowledge discovery and data mining* (pp. 785-794).\n",
    "\n",
    "- Grinsztajn, L., Oyallon, E., & Varoquaux, G. (2022). Why do tree-based models still outperform deep learning on typical tabular data?. *Advances in neural information processing systems*, 35, 507-520.\n",
    "\n",
    "- Dev, S., Wang, H., Nwosu, C. S., Jain, N., Veeravalli, B., & John, D. (2022). A predictive analytics approach for stroke prediction using machine learning and neural networks. *Healthcare Analytics*, 2, 100032.\n",
    "\n",
    "- Emon, M. U., Keya, M. S., Meghla, T. I., Rahman, M. M., Al Mamun, M. S., & Kaiser, M. S. (2020, November). Performance analysis of machine learning approaches in stroke prediction. In *2020 4th international conference on electronics, communication and aerospace technology (ICECA)* (pp. 1464-1469). IEEE.\n",
    "\n",
    "- Paszke, A., Gross, S., Chintala, S., Chanan, G., Yang, E., DeVito, Z., Lin, Z., Desmaison, A., Antiga, L., & Lerer, A. (2017). *Automatic differentiation in PyTorch*. Retrieved from [here](https://pytorch.org/docs/).\n",
    "\n",
    "- Fernández, A., Garcia, S., Herrera, F., & Chawla, N. V. (2018). SMOTE for learning from imbalanced data: progress and challenges, marking the 15-year anniversary. *Journal of artificial intelligence research*, 61, 863-905.\n",
    "\n",
    "- Stack Overflow. (2025). *How does the class_weight parameter in scikit-learn work?* Retrieved from [here](https://stackoverflow.com/questions/30972029/how-does-the-class-weight-parameter-in-scikit-learn-work).\n",
    "\n",
    "- GeeksforGeeks. (2025). *How does the class_weight parameter in scikit-learn work?* Retrieved from [here](https://www.geeksforgeeks.org/how-does-the-classweight-parameter-in-scikit-learn-work/).\n",
    "\n",
    "- Analytics Vidhya. (2025). *Improve Class Imbalance with Class Weights*. Retrieved from [here](https://www.analyticsvidhya.com/blog/2020/10/improve-class-imbalance-class-weights/)."
   ]
  }
 ],
 "metadata": {
  "kernelspec": {
   "display_name": "tfm",
   "language": "python",
   "name": "python3"
  },
  "language_info": {
   "codemirror_mode": {
    "name": "ipython",
    "version": 3
   },
   "file_extension": ".py",
   "mimetype": "text/x-python",
   "name": "python",
   "nbconvert_exporter": "python",
   "pygments_lexer": "ipython3",
   "version": "3.12.7"
  }
 },
 "nbformat": 4,
 "nbformat_minor": 2
}
